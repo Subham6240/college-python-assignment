{
 "cells": [
  {
   "cell_type": "markdown",
   "metadata": {},
   "source": [
    "# Assignment on lists,tuples and dictionary"
   ]
  },
  {
   "cell_type": "code",
   "execution_count": 8,
   "metadata": {
    "scrolled": true
   },
   "outputs": [
    {
     "name": "stdout",
     "output_type": "stream",
     "text": [
      "the original list is ['Arnab', 'Arijit', 'Aniket', 'Subham', 'Sumedha', 'Tiyasha', 'Triasa', 'Madhu', 'Prajeet', 'Shounak']\n",
      "new list with the first elements are ['A', 'A', 'A', 'S', 'S', 'T', 'T', 'M', 'P', 'S']\n"
     ]
    }
   ],
   "source": [
    "list1=['Arnab','Arijit','Aniket','Subham','Sumedha','Tiyasha','Triasa','Madhu','Prajeet','Shounak']\n",
    "print(\"the original list is\",list)\n",
    "list2=[i[0] for i in list1]\n",
    "print(\"new list with the first elements are\",list2)       "
   ]
  },
  {
   "cell_type": "code",
   "execution_count": 4,
   "metadata": {},
   "outputs": [
    {
     "name": "stdout",
     "output_type": "stream",
     "text": [
      "the original list is ['arnab', 'arijit', 'aniket', 'subham', 'sumedha', 'tiyasha', 'triasa', 'madhu', 'prajeet', 'shounak']\n",
      "Enter a single charcter a\n",
      "The list with the character  a is ['arnab', 'arijit', 'aniket']\n"
     ]
    }
   ],
   "source": [
    "list1=['arnab','arijit','aniket','subham','sumedha','tiyasha','triasa','madhu','prajeet','shounak']\n",
    "list2=[]\n",
    "print(\"the original list is\",list1)\n",
    "ch=input(\"Enter a single charcter \")\n",
    "ch=ch.lower()\n",
    "for i in list1 :\n",
    "    if ch in i[0] :\n",
    "        list2.append(i)\n",
    "if len(list2)==0 :\n",
    "    print(\"no words in the list with that character\")\n",
    "else :\n",
    "    print(\"The list with the character \",ch,\"is\",list2)\n"
   ]
  },
  {
   "cell_type": "code",
   "execution_count": null,
   "metadata": {},
   "outputs": [],
   "source": []
  },
  {
   "cell_type": "code",
   "execution_count": 16,
   "metadata": {},
   "outputs": [
    {
     "name": "stdout",
     "output_type": "stream",
     "text": [
      "(7, 0)\n",
      "(5, 8, 3, 7, 0, 1)\n",
      "(1, 2, 4, 12, 2)\n",
      "(5, 8, 3, 7, 0, 1, 2, 4, 12, 2)\n",
      "(0, 1, 2)\n",
      "('H', 'E', 'L', 'L', 'O', ' ', 'W', 'O', 'R', 'L', 'D')\n",
      "('L', 'O', 'W', 'R')\n",
      "('H', 'O', 'R')\n",
      "('L', ' ')\n"
     ]
    }
   ],
   "source": [
    "tuplex=(5,8,3,7,0,1,2,4,12,2)\n",
    "slice=tuplex[3:5]\n",
    "print(slice)\n",
    "slice=tuplex[:6]\n",
    "print(slice)\n",
    "slice=tuplex[5:]\n",
    "print(slice)\n",
    "slice=tuplex[:]\n",
    "print(slice)\n",
    "slice=tuplex[-6:-3]\n",
    "print(slice)\n",
    "tuplex=tuple(\"HELLO WORLD\")\n",
    "print(tuplex)\n",
    "slice=tuplex[2:9:2]\n",
    "print(slice)\n",
    "slice=tuplex[::4]\n",
    "print(slice)\n",
    "slice=tuplex[9:2:-4]\n",
    "print(slice)"
   ]
  },
  {
   "cell_type": "code",
   "execution_count": 4,
   "metadata": {},
   "outputs": [
    {
     "name": "stdout",
     "output_type": "stream",
     "text": [
      "the elements present before the tuple is  5\n"
     ]
    }
   ],
   "source": [
    "num = [10,20,30,40,100,(10,20),40]\n",
    "ctr = 0\n",
    "for n in num:\n",
    "   if isinstance(n, tuple):\n",
    "      break\n",
    "   ctr += 1\n",
    "print(\"the elements present before the tuple is \",ctr)"
   ]
  },
  {
   "cell_type": "code",
   "execution_count": 3,
   "metadata": {
    "scrolled": true
   },
   "outputs": [
    {
     "name": "stdout",
     "output_type": "stream",
     "text": [
      "Number of employees:2\n",
      "Employee No. 1\n",
      "Enter name of the employee:Subham Tripathi\n",
      "Enter employee ID:12200119018\n",
      "Enter department of the employee:CSE\n",
      "Enter gender of the employee:male\n",
      "\n",
      "Employee is given the data ID:0\n",
      "Employee No. 2\n",
      "Enter name of the employee:Arijit Banerjee\n",
      "Enter employee ID:122001190000\n",
      "Enter department of the employee:CSE\n",
      "Enter gender of the employee:male\n",
      "\n",
      "Employee is given the data ID:1\n",
      "Enter data ID for report:1\n",
      "Arijit Banerjee is a male employee .\n",
      "His employee ID is: 122001190000.\n",
      "The employee is in the CSE department.\n"
     ]
    }
   ],
   "source": [
    "while(1):\n",
    "    \n",
    "    try:\n",
    "        \n",
    "        n = int(input('Number of employees:'))\n",
    "        s = {}\n",
    "        for i in range(n):\n",
    "            \n",
    "            employee = {}\n",
    "            print(f'Employee No. {i+1}')\n",
    "            employee['name'] = input('Enter name of the employee:')\n",
    "            employee['id'] = input('Enter employee ID:')\n",
    "            employee['department'] = input('Enter department of the employee:')\n",
    "            employee['gender'] = input('Enter gender of the employee:')\n",
    "            \n",
    "            s[i] = employee\n",
    "            print(f'\\nEmployee is given the data ID:{i}')\n",
    "            \n",
    "        search = int(input('Enter data ID for report:'))\n",
    "        \n",
    "        print(f\"{s[search]['name']} is a {s[search]['gender']} employee .\\nHis employee ID is: {s[search]['id']}.\\nThe employee is in the {s[search]['department']} department.\")\n",
    "        break\n",
    "    \n",
    "    except:\n",
    "        print('Wrong input.')"
   ]
  },
  {
   "cell_type": "code",
   "execution_count": 5,
   "metadata": {
    "scrolled": true
   },
   "outputs": [
    {
     "name": "stdout",
     "output_type": "stream",
     "text": [
      "Enter quantity of Dairy milk 4\n",
      "total price of Dairy milk is  120\n",
      "Enter quantity of lays 9\n",
      "total price of lays is  90\n",
      "Enter quantity of kit kat 14\n",
      "total price of kit kat is  280\n",
      "total bill is  490\n"
     ]
    }
   ],
   "source": [
    "d={'Dairy milk':30,'lays':10,'kit kat':20}\n",
    "bill=0\n",
    "for key in d :\n",
    "    qnt = int(input(f'Enter quantity of {key} '))\n",
    "    n=qnt*d[key]\n",
    "    print(f\"total price of {key} is \",n)\n",
    "    bill=bill+n\n",
    "print(\"total bill is \",bill)"
   ]
  },
  {
   "cell_type": "code",
   "execution_count": 3,
   "metadata": {},
   "outputs": [
    {
     "name": "stdout",
     "output_type": "stream",
     "text": [
      "Enter No. of Friends: 2\n",
      "Enter Name: Subham\n",
      "YYYY-MM-DD: 2001-02-24\n",
      "Enter Name: Kalyan\n",
      "YYYY-MM-DD: 2000-03-15\n",
      "['Kalyan', 'Subham']\n",
      "Enter Name: Subham\n",
      "Date of Birth:  2001-02-24\n"
     ]
    }
   ],
   "source": [
    "d={}\n",
    "n=int(input(\"Enter No. of Friends: \"))\n",
    "for i in range(0,n):\n",
    "  key=input(\"Enter Name: \")\n",
    "  dob=input(\"YYYY-MM-DD: \")\n",
    "  d[key]=dob\n",
    "print(sorted(d)) \n",
    "name=input(\"Enter Name: \")\n",
    "if name in d:\n",
    "  print(\"Date of Birth: \",d[name])\n",
    "else:\n",
    "  print(\"Name not present!\")\n",
    "  p=input(\"Enter DOB as YYYY-MM-DD: \")\n",
    "  d[name]=p\n",
    "  print(\"Information Updated!\")\n",
    "  print(sorted(d))"
   ]
  },
  {
   "cell_type": "code",
   "execution_count": null,
   "metadata": {},
   "outputs": [],
   "source": []
  }
 ],
 "metadata": {
  "kernelspec": {
   "display_name": "Python 3",
   "language": "python",
   "name": "python3"
  },
  "language_info": {
   "codemirror_mode": {
    "name": "ipython",
    "version": 3
   },
   "file_extension": ".py",
   "mimetype": "text/x-python",
   "name": "python",
   "nbconvert_exporter": "python",
   "pygments_lexer": "ipython3",
   "version": "3.8.3"
  }
 },
 "nbformat": 4,
 "nbformat_minor": 4
}
