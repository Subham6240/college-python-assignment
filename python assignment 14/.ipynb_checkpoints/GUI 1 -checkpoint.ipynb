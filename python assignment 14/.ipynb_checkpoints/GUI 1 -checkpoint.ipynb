{
 "cells": [
  {
   "cell_type": "code",
   "execution_count": 14,
   "metadata": {},
   "outputs": [],
   "source": [
    "import tkinter as tk\n",
    "app=tk.Tk()\n",
    "app.title('GUI')\n",
    "app.geometry('1000x600')\n",
    "app.config(bg = 'black')\n",
    "canvas = tk.Canvas(app,width = 900,height=500)\n",
    "canvas.pack(padx=5,pady=5,ipadx=0,ipady=0)\n",
    "l_frame=tk.Frame(canvas)\n",
    "label=tk.Label(l_frame,text='Label',font=('Arial',25))\n",
    "label.pack()\n",
    "canvas.create_window(430,50,window=l_frame)\n",
    "b_frame=tk.Frame(canvas)\n",
    "button=tk.Button(b_frame,text='Button',command=app.destroy,font=('Arial',25),bd=5,activebackground='blue',activeforeground='white')\n",
    "button.pack()\n",
    "canvas.create_window(130,50,window=b_frame)\n",
    "r_frame=tk.Frame(canvas)\n",
    "v=tk.IntVar()\n",
    "r_button1=tk.Radiobutton(r_frame, text='option 1', variable=v, value=1)\n",
    "r_button1.pack()\n",
    "r_button2=tk.Radiobutton(r_frame, text='option 2', variable=v, value=2)\n",
    "r_button2.pack()\n",
    "r_button3=tk.Radiobutton(r_frame, text='option 3', variable=v, value=3)\n",
    "r_button3.pack()\n",
    "canvas.create_window(130,200,window=r_frame)\n",
    "chk_1=tk.IntVar()\n",
    "chk_2=tk.IntVar()\n",
    "c_frame=tk.Frame(canvas)\n",
    "check_1=tk.Checkbutton(c_frame,text='Check 1',variable=chk_1)\n",
    "check_1.pack()\n",
    "check_2=tk.Checkbutton(c_frame,text='Check 2',variable=chk_2)\n",
    "check_2.pack()\n",
    "canvas.create_window(300,200,window=c_frame)\n",
    "entry=tk.Entry(canvas,font=('Ariel',25),width=6,fg='blue')\n",
    "canvas.create_window(470,200,window=entry)\n",
    "o_frame=tk.Frame(canvas)\n",
    "operator=tk.Menubutton(o_frame,text='menubutton',font=('Ariel',25),bd=5,relief='raised')\n",
    "operator.menu = tk.Menu(operator,tearoff = 0)\n",
    "operator['menu'] = operator.menu\n",
    "operator.menu.add_radiobutton(label = '+',value = '+')\n",
    "operator.menu.add_radiobutton(label = '-',value = '-')\n",
    "operator.menu.add_radiobutton(label = '*',value = '*')\n",
    "operator.menu.add_radiobutton(label = '/',value = '/')\n",
    "canvas.create_window(700,200,window=o_frame)\n",
    "operator.pack()\n",
    "list_frame = tk.Frame(canvas)\n",
    "player = tk.Listbox(list_frame)\n",
    "player.insert(1,'player 1')\n",
    "player.insert(2,'player 2')\n",
    "player.insert(3,'player 3')\n",
    "player.insert(4,'player 4')\n",
    "player.insert(5,'player 5')\n",
    "player.pack()\n",
    "canvas.create_window(400,350,window = list_frame)\n",
    "app.mainloop()"
   ]
  },
  {
   "cell_type": "code",
   "execution_count": 12,
   "metadata": {},
   "outputs": [],
   "source": []
  },
  {
   "cell_type": "code",
   "execution_count": null,
   "metadata": {},
   "outputs": [],
   "source": []
  }
 ],
 "metadata": {
  "kernelspec": {
   "display_name": "Python 3",
   "language": "python",
   "name": "python3"
  },
  "language_info": {
   "codemirror_mode": {
    "name": "ipython",
    "version": 3
   },
   "file_extension": ".py",
   "mimetype": "text/x-python",
   "name": "python",
   "nbconvert_exporter": "python",
   "pygments_lexer": "ipython3",
   "version": "3.8.3"
  }
 },
 "nbformat": 4,
 "nbformat_minor": 4
}
