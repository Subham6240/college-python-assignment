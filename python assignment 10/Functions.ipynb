{
 "cells": [
  {
   "cell_type": "markdown",
   "metadata": {},
   "source": [
    "# Assignment on Functions"
   ]
  },
  {
   "cell_type": "code",
   "execution_count": 5,
   "metadata": {},
   "outputs": [
    {
     "name": "stdout",
     "output_type": "stream",
     "text": [
      "Enter the number of terms: 8\n",
      "The terms are:\n",
      "0\n",
      "1\n",
      "1\n",
      "2\n",
      "3\n",
      "5\n",
      "8\n",
      "13\n"
     ]
    }
   ],
   "source": [
    "#Fibonacci non-recursive function\n",
    "def fib(n):\n",
    "    num1=int(0)\n",
    "    num2=int(1)\n",
    "    for i in range(0,n-2):\n",
    "        k=num1+num2\n",
    "        print(k)\n",
    "        num1=num2\n",
    "        num2=k\n",
    "    return;\n",
    "n=int(input(\"Enter the number of terms: \"))\n",
    "if(n==0):\n",
    "        print('Wrong choice.')\n",
    "elif(n==1):\n",
    "    print(\"The term is:\",0)\n",
    "else:\n",
    "    print(\"The terms are:\")\n",
    "    print(0)\n",
    "    print(1)\n",
    "    fib(n)"
   ]
  },
  {
   "cell_type": "code",
   "execution_count": 8,
   "metadata": {},
   "outputs": [
    {
     "name": "stdout",
     "output_type": "stream",
     "text": [
      "enter total number of terms : 12\n",
      "Fibonacci sequence:\n",
      "0\n",
      "1\n",
      "1\n",
      "2\n",
      "3\n",
      "5\n",
      "8\n",
      "13\n",
      "21\n",
      "34\n",
      "55\n",
      "89\n"
     ]
    }
   ],
   "source": [
    "#Fibonacci series recursively\n",
    "def fib(n):\n",
    "   if n <= 1:\n",
    "       return n\n",
    "   else:\n",
    "       return(fib(n-1) + fib(n-2))\n",
    "\n",
    "terms = int(input(\"enter total number of terms : \"))\n",
    "if terms <= 0:\n",
    "   print(\"Plese enter a positive integer\")\n",
    "else:\n",
    "   print(\"Fibonacci sequence:\")\n",
    "   for i in range(terms):\n",
    "       print(fib(i))"
   ]
  },
  {
   "cell_type": "code",
   "execution_count": 12,
   "metadata": {},
   "outputs": [
    {
     "name": "stdout",
     "output_type": "stream",
     "text": [
      "Enter no. of rows : 5\n",
      "1 \n",
      "\n",
      "1 1 \n",
      "\n",
      "1 2 1 \n",
      "\n",
      "1 3 3 1 \n",
      "\n",
      "1 4 6 4 1 \n",
      "\n"
     ]
    }
   ],
   "source": [
    "def Pascal(n):\n",
    "    for line in range(1,n+1): \n",
    "        d = 1\n",
    "        for i in range(1,line+1):\n",
    "            print(int(d), end = \" \")\n",
    "            d= d*(line - i) / i \n",
    "        print(\"\\n\")\n",
    "n = int(input(\"Enter no. of rows : \"))\n",
    "Pascal(n)"
   ]
  },
  {
   "cell_type": "code",
   "execution_count": 11,
   "metadata": {
    "scrolled": true
   },
   "outputs": [
    {
     "name": "stdout",
     "output_type": "stream",
     "text": [
      "Enter the numbers:16,64,256,312\n",
      "The GCD is: 8\n"
     ]
    }
   ],
   "source": [
    "def find_gcd(x, y): \n",
    "    while(y): \n",
    "        x, y = y, x % y \n",
    "    return x \n",
    "l = list(map( int,input(\"Enter the numbers:\").split(',')))\n",
    "num1 = l[0] \n",
    "num2 = l[1] \n",
    "gcd = find_gcd(num1, num2) \n",
    "for i in range(2, len(l)): \n",
    "    gcd = find_gcd(gcd, l[i]) \n",
    "print(\"The GCD is:\",gcd)"
   ]
  },
  {
   "cell_type": "code",
   "execution_count": 1,
   "metadata": {},
   "outputs": [
    {
     "name": "stdout",
     "output_type": "stream",
     "text": [
      "Enter two numbers seperated by comma9,4\n",
      "\n",
      "press \n",
      "1.addition\n",
      "2.subtraction\n",
      "3.multiplication\n",
      "4.division\n",
      "5.exponent\n",
      "6.exit\n",
      "1\n",
      "13.0\n",
      "Enter two numbers seperated by comma8,5\n",
      "\n",
      "press \n",
      "1.addition\n",
      "2.subtraction\n",
      "3.multiplication\n",
      "4.division\n",
      "5.exponent\n",
      "6.exit\n",
      "2\n",
      "3.0\n",
      "Enter two numbers seperated by comma1,1\n",
      "\n",
      "press \n",
      "1.addition\n",
      "2.subtraction\n",
      "3.multiplication\n",
      "4.division\n",
      "5.exponent\n",
      "6.exit\n",
      "6\n"
     ]
    }
   ],
   "source": [
    "def add(a,b):\n",
    "    print(a+b)\n",
    "def subtract(a,b):\n",
    "    print(a-b)\n",
    "def multiply(a,b):\n",
    "    print(a*b)\n",
    "def divide(a,b):\n",
    "    print('Quotient:',a//b,'Remainder:',a%b)       \n",
    "def exponent(a,b):\n",
    "    print(a**b)        \n",
    "while 1:\n",
    "    \n",
    "    try:\n",
    "        while 1:\n",
    "            a,b = list(map(float,input(\"Enter two numbers seperated by comma\").split(',')))\n",
    "            n = input(\"\\npress \\n1.addition\\n2.subtraction\\n3.multiplication\\n4.division\\n5.exponent\\n6.exit\\n\")\n",
    "            \n",
    "            if n == '1':\n",
    "                add(a,b)\n",
    "            elif n == '2':\n",
    "                subtract(a,b)\n",
    "            elif n == '3':\n",
    "                multiply(a,b)\n",
    "            elif n == '4':\n",
    "                divide(a,b)\n",
    "            elif n == '5':\n",
    "                exponent(a,b)\n",
    "            elif n == '6':\n",
    "                break\n",
    "            else:\n",
    "                print('Wrong input.')\n",
    "        break\n",
    "    except:\n",
    "        print('Wrong input. Try again.')"
   ]
  },
  {
   "cell_type": "code",
   "execution_count": 3,
   "metadata": {},
   "outputs": [
    {
     "name": "stdout",
     "output_type": "stream",
     "text": [
      "The default box volume is :  1\n",
      "\n",
      " The volume of a box with length 10,width 1 and height 1 is :  10\n",
      "\n",
      " The volume of a box with length 10,width 5 and height 1 is :  50\n",
      "\n",
      " The volume of a box with length 10,width 5 and height 2 is :  100\n"
     ]
    }
   ],
   "source": [
    "def boxvolume(length=1,width=1,height=1):\n",
    "    return length*width*height\n",
    "print(\"The default box volume is : \",boxvolume())\n",
    "print(\"\\n The volume of a box with length 10,width 1 and height 1 is : \",boxvolume(10))\n",
    "print(\"\\n The volume of a box with length 10,width 5 and height 1 is : \",boxvolume(10,5))\n",
    "print(\"\\n The volume of a box with length 10,width 5 and height 2 is : \",boxvolume(10,5,2))"
   ]
  },
  {
   "cell_type": "code",
   "execution_count": 8,
   "metadata": {},
   "outputs": [
    {
     "name": "stdout",
     "output_type": "stream",
     "text": [
      "Enter number of records : 3\n",
      "Enter favourite subjects in 1st year: \n",
      "maths\n",
      "Enter favourite subjects in 2 year: \n",
      "digital electronics\n",
      "Enter favourite subjects in 3 year: \n",
      "japanese\n",
      "Enter name : Subham\n",
      "Subham likes to read maths\n",
      "Subham likes to read maths digital electronics\n",
      "Subham likes to read maths digital electronics japanese\n"
     ]
    }
   ],
   "source": [
    "def fav(l,n):\n",
    "    for i in l:\n",
    "        print(n,\"likes to read\",i)\n",
    "    return\n",
    "n=int(input(\"Enter number of records : \"))\n",
    "l=[0 for i in range(n)]\n",
    "l[0]=input(\"Enter favourite subjects in 1st year: \\n\")\n",
    "for i in range(1,n):\n",
    "    print(\"Enter favourite subjects in\",i+1,\"year: \")\n",
    "    x=input()\n",
    "    l[i]=l[i-1]+\" \"+x\n",
    "name=input(\"Enter name : \")\n",
    "fav(l,name)"
   ]
  },
  {
   "cell_type": "code",
   "execution_count": 2,
   "metadata": {},
   "outputs": [
    {
     "name": "stdout",
     "output_type": "stream",
     "text": [
      "Enter princiiple amount : 100000\n",
      "Enter the number of years : 4\n",
      "enter y if the person is a senior sitizen else enter any other key : y\n",
      "Interest -  48000.0\n"
     ]
    }
   ],
   "source": [
    "#rate of interest\n",
    "def interest(p,y,s):\n",
    "    if(s=='y'):\n",
    "        si=float((p*y*12)/100)\n",
    "    else:\n",
    "        si=float((p*y*10)/100)\n",
    "    return si\n",
    "p=float(input(\"Enter princiiple amount : \"))\n",
    "yr=float(input(\"Enter the number of years : \"))\n",
    "n=input(\"enter y if the person is a senior sitizen else enter any other key : \")\n",
    "print(\"Interest - \",interest(p,yr,n))"
   ]
  },
  {
   "cell_type": "code",
   "execution_count": 5,
   "metadata": {},
   "outputs": [
    {
     "name": "stdout",
     "output_type": "stream",
     "text": [
      "Enter the vaue of n : 9\n",
      "Enter the vaue of r : 4\n",
      "P( 9 / 4 ) = 15120.0\n"
     ]
    }
   ],
   "source": [
    "#compute p\n",
    "def fact(n):\n",
    "    f=1\n",
    "    if (n==0 or n==1):\n",
    "        return 1\n",
    "    else:\n",
    "        for i in range(1,int(n+1)):\n",
    "            f=f*i\n",
    "    return f\n",
    "n=int(input(\"Enter the vaue of n : \"))\n",
    "r=int(input(\"Enter the vaue of r : \"))\n",
    "result=float(fact(n))/float(fact(r))\n",
    "print(\"P(\",n,\"/\",r,\") =\",result)"
   ]
  },
  {
   "cell_type": "code",
   "execution_count": 8,
   "metadata": {},
   "outputs": [
    {
     "name": "stdout",
     "output_type": "stream",
     "text": [
      "Enter the vaue of n : 9\n",
      "Enter the vaue of r : 4\n",
      "C( 9 / 4 ) = 126.0\n"
     ]
    }
   ],
   "source": [
    "def fact(n):\n",
    "    f=1\n",
    "    if (n==0 or n==1):\n",
    "        return 1\n",
    "    else:\n",
    "        for i in range(1,int(n+1)):\n",
    "            f=f*i\n",
    "    return f\n",
    "n=int(input(\"Enter the vaue of n : \"))\n",
    "r=int(input(\"Enter the vaue of r : \"))\n",
    "result=float(fact(n))/(float(fact(r))*float(fact(n-r)))\n",
    "print(\"C(\",n,\"/\",r,\") =\",result)"
   ]
  },
  {
   "cell_type": "code",
   "execution_count": 5,
   "metadata": {},
   "outputs": [
    {
     "name": "stdout",
     "output_type": "stream",
     "text": [
      "enter 1st number : 69\n",
      "enter 2nd number : 43\n",
      "enter 3rd number : 21.6\n",
      "69.0  is the greatest number\n",
      "21.6  is the lowest number\n"
     ]
    }
   ],
   "source": [
    "def max(x,y,z):\n",
    "    if x>y and x>z :\n",
    "        print(x,\" is the greatest number\")\n",
    "    if y>x and y>z :\n",
    "        print(y,\" is the greatest number\")\n",
    "    if z>x and z>y:\n",
    "        print(z,\" is the greatest number\")\n",
    "def min(x,y,z):\n",
    "    if x<y and x<z :\n",
    "        print(x,\" is the lowest number\")\n",
    "    if y<x and y<z :\n",
    "        print(y,\" is the lowest number\")\n",
    "    if z<x and z<y:\n",
    "        print(z,\" is the lowest number\")\n",
    "try :\n",
    "    a=float(input(\"enter 1st number : \"))\n",
    "    b=float(input(\"enter 2nd number : \"))\n",
    "    c=float(input(\"enter 3rd number : \"))\n",
    "    max(a,b,c)\n",
    "    min(a,b,c)\n",
    "except :\n",
    "    print(\"please enter a valid number \")"
   ]
  }
 ],
 "metadata": {
  "kernelspec": {
   "display_name": "Python 3",
   "language": "python",
   "name": "python3"
  },
  "language_info": {
   "codemirror_mode": {
    "name": "ipython",
    "version": 3
   },
   "file_extension": ".py",
   "mimetype": "text/x-python",
   "name": "python",
   "nbconvert_exporter": "python",
   "pygments_lexer": "ipython3",
   "version": "3.8.3"
  }
 },
 "nbformat": 4,
 "nbformat_minor": 4
}
