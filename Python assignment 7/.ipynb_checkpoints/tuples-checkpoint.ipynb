{
 "cells": [
  {
   "cell_type": "markdown",
   "metadata": {},
   "source": [
    "#assignment on tuples\n"
   ]
  },
  {
   "cell_type": "code",
   "execution_count": 2,
   "metadata": {},
   "outputs": [
    {
     "name": "stdout",
     "output_type": "stream",
     "text": [
      "(1, 2, 3)\n"
     ]
    },
    {
     "ename": "NameError",
     "evalue": "name 'tup' is not defined",
     "output_type": "error",
     "traceback": [
      "\u001b[1;31m---------------------------------------------------------------------------\u001b[0m",
      "\u001b[1;31mNameError\u001b[0m                                 Traceback (most recent call last)",
      "\u001b[1;32m<ipython-input-2-ee6df3651369>\u001b[0m in \u001b[0;36m<module>\u001b[1;34m\u001b[0m\n\u001b[0;32m      2\u001b[0m \u001b[0mprint\u001b[0m\u001b[1;33m(\u001b[0m\u001b[0mtup\u001b[0m\u001b[1;33m)\u001b[0m   \u001b[1;31m#prints tuple\u001b[0m\u001b[1;33m\u001b[0m\u001b[1;33m\u001b[0m\u001b[0m\n\u001b[0;32m      3\u001b[0m \u001b[1;32mdel\u001b[0m\u001b[1;33m(\u001b[0m\u001b[0mtup\u001b[0m\u001b[1;33m)\u001b[0m    \u001b[1;31m#deetes tuple\u001b[0m\u001b[1;33m\u001b[0m\u001b[1;33m\u001b[0m\u001b[0m\n\u001b[1;32m----> 4\u001b[1;33m \u001b[0mprint\u001b[0m\u001b[1;33m(\u001b[0m\u001b[0mtup\u001b[0m\u001b[1;33m)\u001b[0m\u001b[1;33m\u001b[0m\u001b[1;33m\u001b[0m\u001b[0m\n\u001b[0m",
      "\u001b[1;31mNameError\u001b[0m: name 'tup' is not defined"
     ]
    }
   ],
   "source": [
    "tup=(1,2,3)\n",
    "print(tup)   #prints tuple\n",
    "del(tup)    #deetes tuple\n",
    "print(tup)\n"
   ]
  },
  {
   "cell_type": "code",
   "execution_count": 3,
   "metadata": {},
   "outputs": [
    {
     "name": "stdout",
     "output_type": "stream",
     "text": [
      "(1, 2, 3, 10, 20, 30)\n"
     ]
    }
   ],
   "source": [
    "tup=(1,2,3)\n",
    "next=(10,20,30)\n",
    "new=tup+next  # merges two tuples\n",
    "print(new)\n"
   ]
  },
  {
   "cell_type": "code",
   "execution_count": 4,
   "metadata": {},
   "outputs": [
    {
     "name": "stdout",
     "output_type": "stream",
     "text": [
      "(5, 5, 5, 5, 5)\n"
     ]
    }
   ],
   "source": [
    "tup=(5,)\n",
    "tup=tup*5  #stores tuple 5 times\n",
    "print(tup)\n"
   ]
  },
  {
   "cell_type": "code",
   "execution_count": 5,
   "metadata": {},
   "outputs": [
    {
     "name": "stdout",
     "output_type": "stream",
     "text": [
      "(3, 10)\n"
     ]
    }
   ],
   "source": [
    "tup=(1,2,3,10,20,30)\n",
    "print(tup[2:4])   #slicing from index 2 to 4\n"
   ]
  },
  {
   "cell_type": "code",
   "execution_count": 6,
   "metadata": {},
   "outputs": [
    {
     "name": "stdout",
     "output_type": "stream",
     "text": [
      "[1, 2, 3]\n"
     ]
    }
   ],
   "source": [
    "tup=(1,2,3)\n",
    "new=list(tup) #convert tuple in list\n",
    "print(new)\n"
   ]
  },
  {
   "cell_type": "code",
   "execution_count": 8,
   "metadata": {},
   "outputs": [
    {
     "name": "stdout",
     "output_type": "stream",
     "text": [
      "30\n",
      "1\n",
      "6\n"
     ]
    }
   ],
   "source": [
    "tup=(1,2,3,10,20,30)\n",
    "print(max(tup))   #finds max element in the tuple\n",
    "print(min(tup))   #finds min element in the tuple\n",
    "print(len(tup))\n"
   ]
  },
  {
   "cell_type": "code",
   "execution_count": 9,
   "metadata": {},
   "outputs": [
    {
     "name": "stdout",
     "output_type": "stream",
     "text": [
      "('e', 'c', 'r', 'u', 'o', 's', 'e', 'r', '3', 'w')\n",
      "(20, 15, 10, 5)\n"
     ]
    }
   ],
   "source": [
    "\n",
    "x = (\"w3resource\") #create a tuple\n",
    "y = reversed(x) # Reversed the tuple\n",
    "print(tuple(y))\n",
    "x = (5, 10, 15, 20) #create another tuple\n",
    "y = reversed(x)   # Reversed the tuple\n",
    "print(tuple(y))\n"
   ]
  },
  {
   "cell_type": "code",
   "execution_count": 12,
   "metadata": {},
   "outputs": [
    {
     "name": "stdout",
     "output_type": "stream",
     "text": [
      "4\n"
     ]
    }
   ],
   "source": [
    "num = [10,20,30,69,(10,20,40),40]\n",
    "ctr = 0\n",
    "for n in num:\n",
    "    if isinstance(n, tuple):\n",
    "        break\n",
    "    ctr += 1\n",
    "print(ctr)\n"
   ]
  },
  {
   "cell_type": "code",
   "execution_count": 16,
   "metadata": {},
   "outputs": [
    {
     "name": "stdout",
     "output_type": "stream",
     "text": [
      "('i', 'n', 'd', 'e', 'x', ' ', 't', 'u', 'p', 'l', 'e')\n",
      "8\n",
      "8\n",
      "10\n"
     ]
    },
    {
     "ename": "ValueError",
     "evalue": "tuple.index(x): x not in tuple",
     "output_type": "error",
     "traceback": [
      "\u001b[1;31m---------------------------------------------------------------------------\u001b[0m",
      "\u001b[1;31mValueError\u001b[0m                                Traceback (most recent call last)",
      "\u001b[1;32m<ipython-input-16-c18300e62ecd>\u001b[0m in \u001b[0;36m<module>\u001b[1;34m\u001b[0m\n\u001b[0;32m      7\u001b[0m \u001b[0mindex\u001b[0m \u001b[1;33m=\u001b[0m \u001b[0mtuplex\u001b[0m\u001b[1;33m.\u001b[0m\u001b[0mindex\u001b[0m\u001b[1;33m(\u001b[0m\u001b[1;34m\"e\"\u001b[0m\u001b[1;33m,\u001b[0m \u001b[1;36m4\u001b[0m\u001b[1;33m,\u001b[0m \u001b[1;36m11\u001b[0m\u001b[1;33m)\u001b[0m \u001b[1;31m#define the segment of the tuple to be searched\u001b[0m\u001b[1;33m\u001b[0m\u001b[1;33m\u001b[0m\u001b[0m\n\u001b[0;32m      8\u001b[0m \u001b[0mprint\u001b[0m\u001b[1;33m(\u001b[0m\u001b[0mindex\u001b[0m\u001b[1;33m)\u001b[0m\u001b[1;33m\u001b[0m\u001b[1;33m\u001b[0m\u001b[0m\n\u001b[1;32m----> 9\u001b[1;33m \u001b[0mindex\u001b[0m \u001b[1;33m=\u001b[0m \u001b[0mtuplex\u001b[0m\u001b[1;33m.\u001b[0m\u001b[0mindex\u001b[0m\u001b[1;33m(\u001b[0m\u001b[1;34m\"y\"\u001b[0m\u001b[1;33m)\u001b[0m \u001b[1;31m#if item not exists in the tuple return ValueError Exception\u001b[0m\u001b[1;33m\u001b[0m\u001b[1;33m\u001b[0m\u001b[0m\n\u001b[0m",
      "\u001b[1;31mValueError\u001b[0m: tuple.index(x): x not in tuple"
     ]
    }
   ],
   "source": [
    "tuplex = tuple(\"index tuple\") #create a tuple\n",
    "print(tuplex)\n",
    "index = tuplex.index(\"p\") #get index of the first item whose value is passed as parameter\n",
    "print(index)\n",
    "index = tuplex.index(\"p\", 5) #define the index from which you want to search\n",
    "print(index)\n",
    "index = tuplex.index(\"e\", 4, 11) #define the segment of the tuple to be searched\n",
    "print(index)\n",
    "index = tuplex.index(\"y\") #if item not exists in the tuple return ValueError Exception\n"
   ]
  },
  {
   "cell_type": "code",
   "execution_count": 17,
   "metadata": {},
   "outputs": [
    {
     "name": "stdout",
     "output_type": "stream",
     "text": [
      "(5, 4)\n",
      "(2, 4, 3, 5, 4, 6)\n",
      "(6, 7, 8, 6, 1)\n",
      "(2, 4, 3, 5, 4, 6, 7, 8, 6, 1)\n",
      "(3, 5, 4, 6)\n",
      "('H', 'E', 'L', 'L', 'O', ' ', 'W', 'O', 'R', 'L', 'D')\n",
      "('L', 'O', 'W', 'R')\n",
      "('H', 'O', 'R')\n",
      "('L', ' ')\n"
     ]
    }
   ],
   "source": [
    "tuplex = (2, 4, 3, 5, 4, 6, 7, 8, 6, 1)  #create a tuple\n",
    "slice = tuplex[3:5]  #used tuple[start:stop] the start index is inclusive and the stop index\n",
    "print(slice)  #is exclusive\n",
    "slice = tuplex[:6]  #if the start index isn't defined, is taken from the beg inning of the tuple\n",
    "print(slice)\n",
    "slice = tuplex[5:]  #if the end index isn't defined, is taken until the end of the tuple\n",
    "print(slice)\n",
    "slice = tuplex[:] #if neither is defined, returns the full tuple\n",
    "print(slice)\n",
    "slice = tuplex[-8:-4]  #The indexes can be defined with negative values\n",
    "print(slice)\n",
    "tuplex = tuple(\"HELLO WORLD\")  #create another tuple\n",
    "print(tuplex)\n",
    "slice = tuplex[2:9:2]  #step specify an increment between the elements to cut of the tuple\n",
    "                       #tuple[start:stop:step]\n",
    "print(slice)\n",
    "slice = tuplex[::4]  #returns a tuple with a jump every 3 items\n",
    "print(slice)\n",
    "slice = tuplex[9:2:-4] #when step is negative the jump is made back\n",
    "print(slice)\n"
   ]
  },
  {
   "cell_type": "code",
   "execution_count": 1,
   "metadata": {},
   "outputs": [
    {
     "name": "stdout",
     "output_type": "stream",
     "text": [
      "press 1 for linear search and 2 for binary search2\n",
      "enter numbers separated by commas 2,4,65,56,34,32,23\n",
      "the sorted array is \n",
      "(2, 4, 23, 32, 34, 56, 65)\n",
      "enter search element34\n",
      "element found at index position  4\n"
     ]
    }
   ],
   "source": [
    "try :\n",
    "    num=int(input(\"press 1 for linear search and 2 for binary search\"))\n",
    "    if num ==1:\n",
    "        tup=(1,2,5,7,9,12,15,19)\n",
    "        key=int(input(\"enter search element\"))\n",
    "        l=len(tup)\n",
    "        for i in range(l):\n",
    "            if (tup[i]==key):\n",
    "                print(\"element found at index number \",i)\n",
    "                break\n",
    "        else :\n",
    "            print(\"element not present\")\n",
    "    if num ==2 :\n",
    "        tup=tuple(map(int,input(\"enter numbers separated by commas \").split(',')))\n",
    "        print(\"the sorted array is \")\n",
    "        tup=tuple(sorted(tup))\n",
    "        print(tup)\n",
    "        key=int(input(\"enter search element\"))\n",
    "        low=0\n",
    "        mid=0\n",
    "        up=len(tup)-1\n",
    "        f=False\n",
    "        while not f and low<=up :\n",
    "            mid=(low+up)//2\n",
    "            if int(tup[mid]) > key :\n",
    "                up=mid-1\n",
    "            elif int(tup[mid]) < key :\n",
    "                low=mid+1\n",
    "            else :\n",
    "                f=True\n",
    "        if f :\n",
    "            print(\"element found at index position \",mid)\n",
    "        else :\n",
    "            print(\"element not found\")\n",
    "            \n",
    "except :\n",
    "    print(\"error\")"
   ]
  },
  {
   "cell_type": "code",
   "execution_count": null,
   "metadata": {},
   "outputs": [],
   "source": []
  }
 ],
 "metadata": {
  "kernelspec": {
   "display_name": "Python 3",
   "language": "python",
   "name": "python3"
  },
  "language_info": {
   "codemirror_mode": {
    "name": "ipython",
    "version": 3
   },
   "file_extension": ".py",
   "mimetype": "text/x-python",
   "name": "python",
   "nbconvert_exporter": "python",
   "pygments_lexer": "ipython3",
   "version": "3.8.3"
  }
 },
 "nbformat": 4,
 "nbformat_minor": 4
}
