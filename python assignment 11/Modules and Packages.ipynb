{
 "cells": [
  {
   "cell_type": "markdown",
   "metadata": {},
   "source": [
    "# Assignment on Module and Packages"
   ]
  },
  {
   "cell_type": "code",
   "execution_count": 30,
   "metadata": {},
   "outputs": [
    {
     "name": "stdout",
     "output_type": "stream",
     "text": [
      "enter lower range of the year : 1888\n",
      "enter upper range of the year : 1920\n",
      "1888\n",
      "1892\n",
      "1896\n",
      "1904\n",
      "1908\n",
      "1912\n",
      "1916\n",
      "total number of leap years are :  7\n"
     ]
    }
   ],
   "source": [
    "import calendar\n",
    "x=int(input(\"enter lower range of the year : \"))\n",
    "y=int(input(\"enter upper range of the year : \"))\n",
    "n=0\n",
    "while(y>x):\n",
    "    if calendar.isleap(x):\n",
    "        print(x)\n",
    "        x=x+1\n",
    "        n=n+1\n",
    "    else:\n",
    "        x=x+1\n",
    "print(\"total number of leap years are : \",n)"
   ]
  },
  {
   "cell_type": "code",
   "execution_count": 39,
   "metadata": {},
   "outputs": [
    {
     "name": "stdout",
     "output_type": "stream",
     "text": [
      "enter the year : 2021\n",
      "   January  4\n",
      "  February  1\n",
      "     March  1\n",
      "     April  5\n",
      "       May  3\n",
      "      June  7\n",
      "      July  5\n",
      "    August  2\n",
      " September  6\n",
      "   October  4\n",
      "  November  1\n",
      "  December  6\n"
     ]
    }
   ],
   "source": [
    "import calendar\n",
    "x=int(input(\"enter the year : \"))\n",
    "for month in range(1,13):\n",
    "    cal=calendar.monthcalendar(x,month)\n",
    "    week1=cal[0]\n",
    "    week2=cal[1]\n",
    "    if week1[calendar.MONDAY]!=0 :\n",
    "        day=week1[calendar.MONDAY]\n",
    "    else :\n",
    "        day=week2[calendar.MONDAY]\n",
    "    print(\"%10s %2d\"%(calendar.month_name[month],day))"
   ]
  },
  {
   "cell_type": "code",
   "execution_count": 3,
   "metadata": {},
   "outputs": [
    {
     "name": "stdout",
     "output_type": "stream",
     "text": [
      "Year: 2021\n",
      "Month: 01\n",
      "Day: 07\n",
      "Time: 13:57:18\n",
      "Date and Time: 2021-01-07 13:57:18\n"
     ]
    }
   ],
   "source": [
    "import datetime \n",
    "now = datetime.datetime.now()\n",
    "print('Year:',now.strftime('%Y'))\n",
    "print('Month:',now.strftime('%m'))\n",
    "print('Day:',now.strftime('%d'))\n",
    "print('Time:',now.strftime('%H:%M:%S'))\n",
    "print('Date and Time:',now.strftime('%Y-%m-%d %H:%M:%S'))\n"
   ]
  },
  {
   "cell_type": "code",
   "execution_count": 5,
   "metadata": {},
   "outputs": [
    {
     "name": "stdout",
     "output_type": "stream",
     "text": [
      "3 comes 1028 times\n",
      "2 comes 1041 times\n",
      "6 comes 989 times\n",
      "5 comes 1024 times\n",
      "1 comes 979 times\n",
      "4 comes 939 times\n"
     ]
    }
   ],
   "source": [
    "import random \n",
    "import collections\n",
    "faces =  range(1,7)\n",
    "freq = dict(collections.Counter(random.choices(faces,k=6000)))\n",
    "\n",
    "for key in freq:\n",
    "  print(f'{key} comes {freq[key]} times')\n"
   ]
  },
  {
   "cell_type": "code",
   "execution_count": null,
   "metadata": {},
   "outputs": [],
   "source": []
  }
 ],
 "metadata": {
  "kernelspec": {
   "display_name": "Python 3",
   "language": "python",
   "name": "python3"
  },
  "language_info": {
   "codemirror_mode": {
    "name": "ipython",
    "version": 3
   },
   "file_extension": ".py",
   "mimetype": "text/x-python",
   "name": "python",
   "nbconvert_exporter": "python",
   "pygments_lexer": "ipython3",
   "version": "3.8.3"
  }
 },
 "nbformat": 4,
 "nbformat_minor": 4
}
