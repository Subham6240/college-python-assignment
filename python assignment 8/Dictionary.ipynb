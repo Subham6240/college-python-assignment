{
 "cells": [
  {
   "cell_type": "markdown",
   "metadata": {},
   "source": [
    "# Assignment on dictionary"
   ]
  },
  {
   "cell_type": "code",
   "execution_count": 2,
   "metadata": {},
   "outputs": [
    {
     "name": "stdout",
     "output_type": "stream",
     "text": [
      "the maximum number is  96 and the minimum number is  10\n"
     ]
    }
   ],
   "source": [
    "d={'a':45,'b':56,'c':67,'d':96,'e':10}\n",
    "high=max(d.values())\n",
    "low=min(d.values())\n",
    "print(\"the maximum number is \",high,\"and the minimum number is \",low)"
   ]
  },
  {
   "cell_type": "code",
   "execution_count": 3,
   "metadata": {},
   "outputs": [
    {
     "name": "stdout",
     "output_type": "stream",
     "text": [
      "Enter Name, Class, Subject separated by commas. New student details should be separated by . : Subham,12,Maths,Physics.Kalyan,12,Physics,Chemistry.Kalyan,12,Physics,Chemistry\n",
      "\n",
      "PLEASE DON'T REPEAT SAME DETAILS!!\n",
      "{1: ['Subham', '12', ['Maths', 'Physics']], 2: ['Kalyan', '12', ['Chemistry', 'Physics']]}\n"
     ]
    }
   ],
   "source": [
    "d={}\n",
    "details=input(\"Enter Name, Class, Subject separated by commas. New student details should be separated by . : \").split('.')\n",
    "d={}\n",
    "i=1\n",
    "for details in details:\n",
    "  a=details.split(',')\n",
    "  l=[a[0],a[1],sorted(a[2:])]\n",
    "  if l not in d.values():\n",
    "    d[i]=l\n",
    "    i+=1\n",
    "  else:\n",
    "    print(\"\\nPLEASE DON'T REPEAT SAME DETAILS!!\") \n",
    "print(d)"
   ]
  },
  {
   "cell_type": "code",
   "execution_count": 5,
   "metadata": {},
   "outputs": [
    {
     "name": "stdout",
     "output_type": "stream",
     "text": [
      "{1: 10, 2: 20, 3: 30, 4: 40, 5: 50}\n"
     ]
    }
   ],
   "source": [
    "d1={1:10,2:20,3:30}\n",
    "d2={4:40,5:50}\n",
    "d={}\n",
    "for i in (d1,d2):\n",
    "    d.update(i)\n",
    "print(d)"
   ]
  },
  {
   "cell_type": "code",
   "execution_count": 10,
   "metadata": {
    "scrolled": true
   },
   "outputs": [
    {
     "name": "stdout",
     "output_type": "stream",
     "text": [
      "Enter no. of Keys: 4\n",
      "Enter Key: 1\n",
      "Enter Value: 5\n",
      "Enter Key: 2\n",
      "Enter Value: 4\n",
      "Enter Key: 3\n",
      "Enter Value: 10\n",
      "Enter Key: 4\n",
      "Enter Value: 2\n",
      "The multiplication is :  400\n"
     ]
    }
   ],
   "source": [
    "dict={}\n",
    "n=int(input(\"Enter no. of Keys: \"))\n",
    "for i in range(0,n):\n",
    "  key=input(\"Enter Key: \")\n",
    "  val=int(input(\"Enter Value: \"))\n",
    "  dict[key]=val\n",
    "m=1\n",
    "for j in dict:\n",
    "    m=m*dict[j]\n",
    "print(\"The multiplication is : \",m)"
   ]
  },
  {
   "cell_type": "code",
   "execution_count": 14,
   "metadata": {},
   "outputs": [
    {
     "name": "stdout",
     "output_type": "stream",
     "text": [
      "Enter no. of Keys: 4\n",
      "Enter Key: 2\n",
      "Enter Value: 56\n",
      "Enter Key: 3\n",
      "Enter Value: 69\n",
      "Enter Key: 1\n",
      "Enter Value: 25\n",
      "Enter Key: 7\n",
      "Enter Value: 82\n",
      "('1', 25) ('2', 56) ('3', 69) ('7', 82) "
     ]
    }
   ],
   "source": [
    "try:\n",
    "    dict={}\n",
    "    n=int(input(\"Enter no. of Keys: \"))\n",
    "    for i in range(0,n):\n",
    "        key=input(\"Enter Key: \")\n",
    "        val=int(input(\"Enter Value: \"))\n",
    "        dict[key]=val\n",
    "    for i in sorted(dict):\n",
    "        print((i,dict[i]),end=\" \")\n",
    "except :\n",
    "    print(\"Value error please try again\")"
   ]
  },
  {
   "cell_type": "code",
   "execution_count": 18,
   "metadata": {},
   "outputs": [
    {
     "name": "stdout",
     "output_type": "stream",
     "text": [
      "empty dictionary\n"
     ]
    }
   ],
   "source": [
    "dict={}\n",
    "if not bool(dict):\n",
    "    print(\"empty dictionary\")\n",
    "else :\n",
    "    print(\"dictionary not empty\")"
   ]
  },
  {
   "cell_type": "code",
   "execution_count": 16,
   "metadata": {},
   "outputs": [
    {
     "name": "stdout",
     "output_type": "stream",
     "text": [
      "How many M->CM conversions do you want to perform?\n",
      "3\n",
      "Enter Meter: 5\n",
      "Enter Meter: 6\n",
      "Enter Meter: 4\n",
      "How many CM->M conversions do you want to perform?\n",
      "3\n",
      "Enter Centimeter: 3000\n",
      "Enter Centimeter: 40000\n",
      "Enter Centimeter: 1000\n",
      "M->CM=  {5: 500, 6: 600, 4: 400}\n",
      "CM->M=  {3000: 30.0, 40000: 400.0, 1000: 10.0}\n"
     ]
    }
   ],
   "source": [
    "d1={}\n",
    "d2={}\n",
    "n=int(input(\"How many M->CM conversions do you want to perform?\\n\"))\n",
    "for i in range(0,n):\n",
    "  m=int(input(\"Enter Meter: \"))\n",
    "  d1[m]=m*100\n",
    "k=int(input(\"How many CM->M conversions do you want to perform?\\n\"))\n",
    "for j in range(0,k):\n",
    "  cm=int(input(\"Enter Centimeter: \"))\n",
    "  d2[cm]=cm/100\n",
    "print(\"M->CM= \",d1)\n",
    "print(\"CM->M= \",d2)"
   ]
  },
  {
   "cell_type": "code",
   "execution_count": 2,
   "metadata": {},
   "outputs": [
    {
     "name": "stdout",
     "output_type": "stream",
     "text": [
      "Enter name and age separated by a comma in dictionary(name:age{int}): Subham:19,Arnab:70,Arijit:45,Aniket:1\n",
      "{19: 'Subham', 70: 'Arnab', 45: 'Arijit', 1: 'Aniket'}\n"
     ]
    }
   ],
   "source": [
    "try:\n",
    "    d = {}\n",
    "    items = input(\"Enter name and age separated by a comma in dictionary(name:age{int}): \").split(',')\n",
    "\n",
    "    for item in items:\n",
    "        key, value = item.split(':')\n",
    "        value = int(value)\n",
    "\n",
    "        if key not in d.keys():\n",
    "            d[key] = value\n",
    "        else:\n",
    "            print (f'The key {key} is repeated and hence ignored.')\n",
    "    \n",
    "    reversed= {value : key for (key, value) in d.items()}\n",
    "    print(reversed)\n",
    "    \n",
    "except: \n",
    "    print(\"Wrong input!!\")"
   ]
  },
  {
   "cell_type": "markdown",
   "metadata": {},
   "source": [
    "## Questionnaire\n",
    "What are the advantages of dictionary over list ?\n",
    "Ans :\n",
    "1.It enhances the readability of the code\n",
    "2.Dictionary can hold upto larger spaces than list due to hashing process\n",
    "3.They are pair of values and so preferable for key value pair data\n",
    "4.it's faster than list as it follows a look up algorithm whereas list is iterable."
   ]
  }
 ],
 "metadata": {
  "kernelspec": {
   "display_name": "Python 3",
   "language": "python",
   "name": "python3"
  },
  "language_info": {
   "codemirror_mode": {
    "name": "ipython",
    "version": 3
   },
   "file_extension": ".py",
   "mimetype": "text/x-python",
   "name": "python",
   "nbconvert_exporter": "python",
   "pygments_lexer": "ipython3",
   "version": "3.8.3"
  }
 },
 "nbformat": 4,
 "nbformat_minor": 4
}
